{
 "cells": [
  {
   "cell_type": "markdown",
   "metadata": {},
   "source": [
    "## Matplotlib Animation"
   ]
  },
  {
   "cell_type": "code",
   "execution_count": 22,
   "metadata": {},
   "outputs": [],
   "source": [
    "import cartopy.crs as ccrs\n",
    "import cartopy.feature as cfeat\n",
    "import matplotlib.animation as animation\n",
    "import xarray as xr\n",
    "import numpy as np\n",
    "import matplotlib.pyplot as plt\n",
    "from cartopy.mpl.ticker import LongitudeFormatter, LatitudeFormatter\n",
    "import matplotlib\n",
    "from celluloid import Camera\n",
    "\n",
    "\n",
    "#####******************* Inspired by http://tech.weatherforce.org/blog/ecmwf-data-animation/index.html******************########\n",
    "#####*******************Inspired by https://gist.github.com/ScottWales/5d0ef918d56c4f6f58b73c1d5eabaf9b*******************########\n",
    "\n",
    "def make_figure(cartopy_projection):\n",
    "    fig = plt.figure(figsize=(20,15))\n",
    "    ax = plt.axes(projection=cartopy_projection)\n",
    "    ax.add_feature(cfeat.LAND)\n",
    "    #ax.add_feature(cfeat.OCEAN)\n",
    "    ax.add_feature(cfeat.COASTLINE)\n",
    "    #ax.add_feature(cfeat.BORDERS, linestyle='dotted')\n",
    "    return fig, ax\n",
    "\n",
    "\n",
    "def draw(frame,ds,dsu,dsv,varname,ax,min_value,max_value,N,cmap1,add_colorbar):\n",
    "        ax.clear()\n",
    "        ax               = plt.axes(projection=cartopy_projection)\n",
    "        ax.add_feature(cfeat.LAND)\n",
    "        \n",
    "        \n",
    "        area              = ds[varname]\n",
    "        frames            = area.time.size\n",
    "        grid              = area[frame]\n",
    "        levels1           =np.linspace(min_value,max_value,N)\n",
    "        \n",
    "        \n",
    "        u                  = dsu['uwnd'][frame] \n",
    "        v                  = dsv['vwnd'][frame]\n",
    "\n",
    "        grid.plot(ax=ax, transform=ccrs.PlateCarree(),cmap=cmap1,extend='both',\n",
    "                            add_colorbar=add_colorbar,levels=levels1,animated=True)\n",
    "        \n",
    "        ax.quiver(dsu.lon.values,dsu.lat.values,u.values,v.values,color='black',transform = ccrs.PlateCarree(),animated=True)\n",
    "        \n",
    "        ax.set_global()\n",
    "        ax.coastlines()\n",
    "        title = u\"%s — %s\" % (ds[varname].name, str(area.time[frame].values)[:19])\n",
    "        ax.set_title(title)\n",
    "        \n",
    "        return ax\n",
    "\n",
    "    \n",
    "def initial():\n",
    "    return draw(0,ds,dsu,dsv,varname,ax,min_value,max_value,N,cmap1,add_colorbar=True)\n",
    "\n",
    "\n",
    "def animate(frame):\n",
    "    return draw(frame,ds,dsu,dsv,varname,ax,min_value,max_value,N,cmap1,add_colorbar=False)\n",
    "\n",
    "\n",
    "def make_animation(fig,frames,outputname):\n",
    "    ani = animation.FuncAnimation(fig,animate,frames, interval=1, blit=False,init_func=initial, repeat=False)\n",
    "    #ani.save(outputname, writer=animation.FFMpegWriter(fps=4))\n",
    "    ani.save(outputname,writer='imagemagick') \n",
    "    plt.close(fig)\n",
    "    return ani\n",
    "\n"
   ]
  },
  {
   "cell_type": "markdown",
   "metadata": {},
   "source": [
    "## BOB"
   ]
  },
  {
   "cell_type": "code",
   "execution_count": 25,
   "metadata": {},
   "outputs": [
    {
     "data": {
      "text/html": [
       "<pre>&lt;xarray.Dataset&gt;\n",
       "Dimensions:    (bnds: 2, lat: 73, lon: 49, time: 34)\n",
       "Coordinates:\n",
       "  * time       (time) datetime64[ns] 2010-06-26 2010-06-27 ... 2010-07-29\n",
       "  * lon        (lon) float32 0.0 2.5 5.0 7.5 10.0 ... 112.5 115.0 117.5 120.0\n",
       "  * lat        (lat) float32 90.0 87.5 85.0 82.5 ... -82.5 -85.0 -87.5 -90.0\n",
       "    level      float32 850.0\n",
       "Dimensions without coordinates: bnds\n",
       "Data variables:\n",
       "    time_bnds  (time, bnds) datetime64[ns] ...\n",
       "    uwnd       (time, lat, lon) float32 ...\n",
       "Attributes:\n",
       "    CDI:            Climate Data Interface version 1.9.6 (http://mpimet.mpg.d...\n",
       "    Conventions:    CF-1.0\n",
       "    history:        Fri Mar 20 17:33:36 2020: cdo -O sub /home/cccr/roxy/sara...\n",
       "    source:         NCEP/DOE AMIP-II Reanalysis (Reanalysis-2) Model\n",
       "    institution:    National Centers for Environmental Prediction\n",
       "    title:          Daily NCEP/DOE Reanalysis 2\n",
       "    comments:       Data is from \\nNCEP/DOE AMIP-II Reanalysis (Reanalysis-2)...\n",
       "    platform:       Model\n",
       "    dataset_title:  NCEP-DOE AMIP-II Reanalysis\n",
       "    References:     https://www.esrl.noaa.gov/psd/data/gridded/data.ncep.rean...\n",
       "    source_url:     http://www.cpc.ncep.noaa.gov/products/wesley/reanalysis2/\n",
       "    CDO:            Climate Data Operators version 1.9.6 (http://mpimet.mpg.d...</pre>"
      ],
      "text/plain": [
       "<xarray.Dataset>\n",
       "Dimensions:    (bnds: 2, lat: 73, lon: 49, time: 34)\n",
       "Coordinates:\n",
       "  * time       (time) datetime64[ns] 2010-06-26 2010-06-27 ... 2010-07-29\n",
       "  * lon        (lon) float32 0.0 2.5 5.0 7.5 10.0 ... 112.5 115.0 117.5 120.0\n",
       "  * lat        (lat) float32 90.0 87.5 85.0 82.5 ... -82.5 -85.0 -87.5 -90.0\n",
       "    level      float32 850.0\n",
       "Dimensions without coordinates: bnds\n",
       "Data variables:\n",
       "    time_bnds  (time, bnds) datetime64[ns] ...\n",
       "    uwnd       (time, lat, lon) float32 ...\n",
       "Attributes:\n",
       "    CDI:            Climate Data Interface version 1.9.6 (http://mpimet.mpg.d...\n",
       "    Conventions:    CF-1.0\n",
       "    history:        Fri Mar 20 17:33:36 2020: cdo -O sub /home/cccr/roxy/sara...\n",
       "    source:         NCEP/DOE AMIP-II Reanalysis (Reanalysis-2) Model\n",
       "    institution:    National Centers for Environmental Prediction\n",
       "    title:          Daily NCEP/DOE Reanalysis 2\n",
       "    comments:       Data is from \\nNCEP/DOE AMIP-II Reanalysis (Reanalysis-2)...\n",
       "    platform:       Model\n",
       "    dataset_title:  NCEP-DOE AMIP-II Reanalysis\n",
       "    References:     https://www.esrl.noaa.gov/psd/data/gridded/data.ncep.rean...\n",
       "    source_url:     http://www.cpc.ncep.noaa.gov/products/wesley/reanalysis2/\n",
       "    CDO:            Climate Data Operators version 1.9.6 (http://mpimet.mpg.d..."
      ]
     },
     "execution_count": 25,
     "metadata": {},
     "output_type": "execute_result"
    }
   ],
   "source": [
    "b=xr.open_dataset('/home/cccr/roxy/saranya/DATA_all/mhw_anomalies/v850.anomalies.nc')\n",
    "c=xr.open_dataset('/home/cccr/roxy/saranya/DATA_all/mhw_anomalies/u850.anomalies.nc')\n",
    "\n",
    "dsv =b.sel(lat=slice(90,-90),lon=slice(0,120),time=slice('2010-06-26','2010-07-29'),level=850)\n",
    "dsu =c.sel(lat=slice(90,-90),lon=slice(0,120),time=slice('2010-06-26','2010-07-29'),level=850)\n",
    "dsu"
   ]
  },
  {
   "cell_type": "code",
   "execution_count": 26,
   "metadata": {},
   "outputs": [
    {
     "name": "stderr",
     "output_type": "stream",
     "text": [
      "/home/cccr/roxy/.conda/envs/saranya/lib/python3.7/site-packages/ipykernel_launcher.py:27: MatplotlibDeprecationWarning: Adding an axes using the same arguments as a previous axes currently reuses the earlier instance.  In a future version, a new instance will always be created and returned.  Meanwhile, this warning can be suppressed, and the future behavior ensured, by passing a unique label to each axes instance.\n"
     ]
    },
    {
     "data": {
      "text/plain": [
       "<matplotlib.animation.FuncAnimation at 0x7fafae0ada10>"
      ]
     },
     "execution_count": 26,
     "metadata": {},
     "output_type": "execute_result"
    }
   ],
   "source": [
    "import nclcmaps \n",
    "cmap1=nclcmaps.cmap('sunshine_9lev')\n",
    "\n",
    "a=xr.open_dataset('sst_anom_mhws.nc')\n",
    "a1 =a.sel(time=slice('2010-06-26','2010-07-29'))\n",
    "\n",
    "\n",
    "ds = a1*1\n",
    "varname ='sstanom';\n",
    "cartopy_projection=ccrs.Orthographic(central_latitude=0.0,central_longitude=75.0)\n",
    "min_value   =   0.00\n",
    "max_value   =   0.8\n",
    "N           =   11\n",
    "cmap1       =   cmap1\n",
    "fig,ax      = make_figure(cartopy_projection)\n",
    "make_animation(fig,frames=ds.time.size,outputname='o1.gif')\n",
    "# ds.time.size"
   ]
  },
  {
   "cell_type": "code",
   "execution_count": null,
   "metadata": {},
   "outputs": [],
   "source": [
    "a=xr.open_dataset('sst_anom_mhws.nc')\n",
    "a1 =a.sel(time=slice('2010-06-26','2010-07-29'))\n",
    "import nclcmaps \n",
    "cmap1=nclcmaps.cmap('sunshine_9lev')"
   ]
  },
  {
   "cell_type": "code",
   "execution_count": null,
   "metadata": {},
   "outputs": [],
   "source": [
    "ds = a1*1\n",
    "varname ='sstanom';\n",
    "cartopy_projection=ccrs.Orthographic(central_latitude=0.0,central_longitude=75.0)\n",
    "min_value   =   0.00\n",
    "max_value   =   0.8\n",
    "N           =   11\n",
    "cmap1       =   cmap1\n",
    "fig,ax      = make_figure(cartopy_projection)\n",
    "area,frames,ds =read(ds,varname)\n",
    "make_animation(fig,frames,'output.mp4')"
   ]
  },
  {
   "cell_type": "markdown",
   "metadata": {},
   "source": [
    "## AS"
   ]
  },
  {
   "cell_type": "code",
   "execution_count": null,
   "metadata": {},
   "outputs": [],
   "source": [
    "a1 =a.sel(time=slice('2017-04-19','2017-06-02'))\n",
    "\n",
    "ds = a1*1\n",
    "varname ='sstanom';\n",
    "cartopy_projection=ccrs.Orthographic(central_latitude=0.0,central_longitude=75.0)\n",
    "min_value   =   0.00\n",
    "max_value   =   0.8\n",
    "N           =   11\n",
    "cmap1       =   cmap1\n",
    "fig,ax      = make_figure(cartopy_projection)\n",
    "area,frames,ds =read(ds,varname)\n",
    "make_animation(fig,frames,'output_AS.mp4')"
   ]
  },
  {
   "cell_type": "code",
   "execution_count": null,
   "metadata": {},
   "outputs": [],
   "source": []
  }
 ],
 "metadata": {
  "kernelspec": {
   "display_name": "Python 3",
   "language": "python",
   "name": "python3"
  },
  "language_info": {
   "codemirror_mode": {
    "name": "ipython",
    "version": 3
   },
   "file_extension": ".py",
   "mimetype": "text/x-python",
   "name": "python",
   "nbconvert_exporter": "python",
   "pygments_lexer": "ipython3",
   "version": "3.7.6"
  }
 },
 "nbformat": 4,
 "nbformat_minor": 4
}
